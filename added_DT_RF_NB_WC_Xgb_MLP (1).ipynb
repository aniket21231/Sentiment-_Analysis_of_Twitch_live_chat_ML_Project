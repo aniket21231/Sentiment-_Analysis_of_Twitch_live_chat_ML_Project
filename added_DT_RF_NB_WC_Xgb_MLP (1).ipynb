{
  "cells": [
    {
      "cell_type": "code",
      "source": [
        "pip install contractions"
      ],
      "metadata": {
        "colab": {
          "base_uri": "https://localhost:8080/"
        },
        "id": "Ql437UFrE8nJ",
        "outputId": "e6b9df34-9a5b-431f-d057-0b550ccb00b4"
      },
      "id": "Ql437UFrE8nJ",
      "execution_count": 12,
      "outputs": [
        {
          "output_type": "stream",
          "name": "stdout",
          "text": [
            "Requirement already satisfied: contractions in /usr/local/lib/python3.10/dist-packages (0.1.73)\n",
            "Requirement already satisfied: textsearch>=0.0.21 in /usr/local/lib/python3.10/dist-packages (from contractions) (0.0.24)\n",
            "Requirement already satisfied: anyascii in /usr/local/lib/python3.10/dist-packages (from textsearch>=0.0.21->contractions) (0.3.2)\n",
            "Requirement already satisfied: pyahocorasick in /usr/local/lib/python3.10/dist-packages (from textsearch>=0.0.21->contractions) (2.0.0)\n"
          ]
        }
      ]
    },
    {
      "cell_type": "code",
      "source": [
        "pip install vaderSentiment"
      ],
      "metadata": {
        "colab": {
          "base_uri": "https://localhost:8080/"
        },
        "id": "YjlvCWa0GlAt",
        "outputId": "4c407e95-4d96-47eb-86cf-618d663ae9f6"
      },
      "id": "YjlvCWa0GlAt",
      "execution_count": 13,
      "outputs": [
        {
          "output_type": "stream",
          "name": "stdout",
          "text": [
            "Requirement already satisfied: vaderSentiment in /usr/local/lib/python3.10/dist-packages (3.3.2)\n",
            "Requirement already satisfied: requests in /usr/local/lib/python3.10/dist-packages (from vaderSentiment) (2.31.0)\n",
            "Requirement already satisfied: charset-normalizer<4,>=2 in /usr/local/lib/python3.10/dist-packages (from requests->vaderSentiment) (3.3.2)\n",
            "Requirement already satisfied: idna<4,>=2.5 in /usr/local/lib/python3.10/dist-packages (from requests->vaderSentiment) (3.4)\n",
            "Requirement already satisfied: urllib3<3,>=1.21.1 in /usr/local/lib/python3.10/dist-packages (from requests->vaderSentiment) (2.0.7)\n",
            "Requirement already satisfied: certifi>=2017.4.17 in /usr/local/lib/python3.10/dist-packages (from requests->vaderSentiment) (2023.7.22)\n"
          ]
        }
      ]
    },
    {
      "cell_type": "code",
      "execution_count": 14,
      "id": "4176594c",
      "metadata": {
        "id": "4176594c"
      },
      "outputs": [],
      "source": [
        "import os\n",
        "import pandas as pd\n",
        "import re\n",
        "import nltk\n",
        "import contractions\n",
        "from sklearn.model_selection import train_test_split\n",
        "from sklearn.feature_extraction.text import TfidfVectorizer\n",
        "from sklearn.linear_model import LogisticRegression\n",
        "from sklearn.metrics import accuracy_score, precision_score, recall_score, f1_score, classification_report, confusion_matrix\n",
        "from nltk.corpus import stopwords\n",
        "from nltk.tokenize import word_tokenize\n",
        "\n",
        "# Load the CSV data into a DataFrame\n",
        "csv_file = \"/content/drive/MyDrive/Machine Learning 1/combined_data.csv\"\n",
        "df = pd.read_csv(csv_file)"
      ]
    },
    {
      "cell_type": "code",
      "execution_count": 15,
      "id": "5e437075",
      "metadata": {
        "colab": {
          "base_uri": "https://localhost:8080/"
        },
        "id": "5e437075",
        "outputId": "98a07f21-a869-44b9-e041-dcf924f982fe"
      },
      "outputs": [
        {
          "output_type": "execute_result",
          "data": {
            "text/plain": [
              "3096178"
            ]
          },
          "metadata": {},
          "execution_count": 15
        }
      ],
      "source": [
        "df.dropna(subset=['body'], inplace=True)\n",
        "df.drop_duplicates(subset='body', inplace=True)\n",
        "df = df[df['body'].apply(len) > 5]\n",
        "df.shape[0]"
      ]
    },
    {
      "cell_type": "code",
      "execution_count": 19,
      "id": "b0cedba2",
      "metadata": {
        "colab": {
          "base_uri": "https://localhost:8080/"
        },
        "id": "b0cedba2",
        "outputId": "e296fbd5-fe09-4313-eb69-a11d24dfb836"
      },
      "outputs": [
        {
          "output_type": "stream",
          "name": "stderr",
          "text": [
            "[nltk_data] Downloading package punkt to /root/nltk_data...\n",
            "[nltk_data]   Unzipping tokenizers/punkt.zip.\n",
            "[nltk_data] Downloading package stopwords to /root/nltk_data...\n",
            "[nltk_data]   Unzipping corpora/stopwords.zip.\n",
            "[nltk_data] Downloading package wordnet to /root/nltk_data...\n"
          ]
        },
        {
          "output_type": "execute_result",
          "data": {
            "text/plain": [
              "True"
            ]
          },
          "metadata": {},
          "execution_count": 19
        }
      ],
      "source": [
        "\n",
        "import nltk\n",
        "nltk.download('punkt')\n",
        "nltk.download('stopwords')\n",
        "nltk.download('wordnet')"
      ]
    },
    {
      "cell_type": "code",
      "execution_count": 20,
      "id": "9f55a828",
      "metadata": {
        "id": "9f55a828"
      },
      "outputs": [],
      "source": [
        "flagged_df = df.iloc[:len(df) // 2]\n",
        "non_flagged_df = df.iloc[len(df) // 2:]\n",
        "\n",
        "num_samples_per_class = 100000\n",
        "# Randomly sample from each class to create a balanced dataset\n",
        "flagged_sampled = flagged_df.sample(n=num_samples_per_class, random_state=50)\n",
        "non_flagged_sampled = non_flagged_df.sample(n=num_samples_per_class, random_state=50)\n",
        "\n",
        "# # Concatenate the sampled DataFrames to create the balanced dataset\n",
        "df = pd.concat([flagged_sampled, non_flagged_sampled], ignore_index=True)"
      ]
    },
    {
      "cell_type": "code",
      "execution_count": 21,
      "id": "09c72869",
      "metadata": {
        "colab": {
          "base_uri": "https://localhost:8080/"
        },
        "id": "09c72869",
        "outputId": "3cda258d-829f-4150-9e82-e7c64de295ed"
      },
      "outputs": [
        {
          "output_type": "stream",
          "name": "stdout",
          "text": [
            "Number of rows after preprocessing: 200000\n"
          ]
        }
      ],
      "source": [
        "'''\n",
        "Added 2 more pre processing steps.\n",
        "'''\n",
        "\n",
        "import pandas as pd\n",
        "import re\n",
        "from nltk.stem import PorterStemmer, WordNetLemmatizer\n",
        "from nltk.tokenize import word_tokenize\n",
        "from nltk.corpus import wordnet, stopwords\n",
        "import contractions\n",
        "def preprocess_text(text):\n",
        "    if pd.isna(text) or not text.strip():\n",
        "        return ''  # Replace empty strings or NaN with an empty string\n",
        "\n",
        "    text = text.lower()\n",
        "    text = re.sub(r'[^\\w\\s,]', '', text)\n",
        "    text = re.sub(r'[0-9]', '', text)\n",
        "    text = ''.join(char for char in text if ord(char) < 128)\n",
        "\n",
        "    # Normalize contractions\n",
        "    text = contractions.fix(text)\n",
        "\n",
        "    # Tokenize the text using NLTK's word_tokenize\n",
        "    words = word_tokenize(text)\n",
        "\n",
        "    # Remove stop words\n",
        "    stop_words = set(stopwords.words('english'))  # Change 'english' to your language if needed\n",
        "    words = [word for word in words if word not in stop_words]\n",
        "\n",
        "    # Perform stemming and lemmatization\n",
        "    '''\n",
        "    Stemmer and lemmatizer are going to convert a word to it's root form.\n",
        "    '''\n",
        "    # stemmer = PorterStemmer()\n",
        "    # lemmatizer = WordNetLemmatizer()\n",
        "    # words = [stemmer.stem(lemmatizer.lemmatize(word)) for word in words]\n",
        "\n",
        "    return ' '.join(words)\n",
        "\n",
        "df['body'] = df['body'].apply(preprocess_text)\n",
        "# Check the number of rows in the DataFrame after preprocessing\n",
        "num_rows = df.shape[0]\n",
        "print(f'Number of rows after preprocessing: {num_rows}')"
      ]
    },
    {
      "cell_type": "code",
      "execution_count": 22,
      "id": "73543fe9",
      "metadata": {
        "colab": {
          "base_uri": "https://localhost:8080/",
          "height": 227
        },
        "id": "73543fe9",
        "outputId": "acf3b23f-878e-4b45-928a-3cf466cd3adf"
      },
      "outputs": [
        {
          "output_type": "error",
          "ename": "NameError",
          "evalue": "ignored",
          "traceback": [
            "\u001b[0;31m---------------------------------------------------------------------------\u001b[0m",
            "\u001b[0;31mNameError\u001b[0m                                 Traceback (most recent call last)",
            "\u001b[0;32m<ipython-input-22-14cf33baa8b0>\u001b[0m in \u001b[0;36m<cell line: 7>\u001b[0;34m()\u001b[0m\n\u001b[1;32m      5\u001b[0m \u001b[0mstopwords\u001b[0m \u001b[0;34m=\u001b[0m \u001b[0mset\u001b[0m\u001b[0;34m(\u001b[0m\u001b[0mSTOPWORDS\u001b[0m\u001b[0;34m)\u001b[0m\u001b[0;34m\u001b[0m\u001b[0;34m\u001b[0m\u001b[0m\n\u001b[1;32m      6\u001b[0m \u001b[0mwordcloud\u001b[0m \u001b[0;34m=\u001b[0m \u001b[0mWordCloud\u001b[0m\u001b[0;34m(\u001b[0m\u001b[0mbackground_color\u001b[0m\u001b[0;34m=\u001b[0m\u001b[0;34m'white'\u001b[0m\u001b[0;34m,\u001b[0m\u001b[0mstopwords\u001b[0m\u001b[0;34m=\u001b[0m\u001b[0mstopwords\u001b[0m\u001b[0;34m,\u001b[0m\u001b[0mmax_words\u001b[0m \u001b[0;34m=\u001b[0m \u001b[0;36m5000\u001b[0m\u001b[0;34m,\u001b[0m\u001b[0mmax_font_size\u001b[0m \u001b[0;34m=\u001b[0m \u001b[0;36m50\u001b[0m\u001b[0;34m,\u001b[0m \u001b[0mscale\u001b[0m \u001b[0;34m=\u001b[0m \u001b[0;36m5\u001b[0m\u001b[0;34m)\u001b[0m\u001b[0;34m.\u001b[0m\u001b[0mgenerate\u001b[0m\u001b[0;34m(\u001b[0m\u001b[0mstr\u001b[0m\u001b[0;34m(\u001b[0m\u001b[0mdf\u001b[0m\u001b[0;34m[\u001b[0m\u001b[0;34m'body'\u001b[0m\u001b[0;34m]\u001b[0m\u001b[0;34m)\u001b[0m\u001b[0;34m)\u001b[0m\u001b[0;34m\u001b[0m\u001b[0;34m\u001b[0m\u001b[0m\n\u001b[0;32m----> 7\u001b[0;31m \u001b[0mplt\u001b[0m\u001b[0;34m.\u001b[0m\u001b[0mimshow\u001b[0m\u001b[0;34m(\u001b[0m\u001b[0mwordcloud\u001b[0m\u001b[0;34m)\u001b[0m\u001b[0;34m\u001b[0m\u001b[0;34m\u001b[0m\u001b[0m\n\u001b[0m",
            "\u001b[0;31mNameError\u001b[0m: name 'plt' is not defined"
          ]
        }
      ],
      "source": [
        "'''\n",
        "Added Word Cloud Visualization for the over all input.\n",
        "'''\n",
        "from wordcloud import WordCloud, STOPWORDS\n",
        "stopwords = set(STOPWORDS)\n",
        "wordcloud = WordCloud(background_color='white',stopwords=stopwords,max_words = 5000,max_font_size = 50, scale = 5).generate(str(df['body']))\n",
        "plt.imshow(wordcloud)"
      ]
    },
    {
      "cell_type": "code",
      "execution_count": 23,
      "id": "c61ed064",
      "metadata": {
        "colab": {
          "base_uri": "https://localhost:8080/",
          "height": 245
        },
        "id": "c61ed064",
        "outputId": "6a2bc1e1-e62e-49f5-90a7-7fca87074128"
      },
      "outputs": [
        {
          "output_type": "error",
          "ename": "NameError",
          "evalue": "ignored",
          "traceback": [
            "\u001b[0;31m---------------------------------------------------------------------------\u001b[0m",
            "\u001b[0;31mNameError\u001b[0m                                 Traceback (most recent call last)",
            "\u001b[0;32m<ipython-input-23-61c15004e463>\u001b[0m in \u001b[0;36m<cell line: 4>\u001b[0;34m()\u001b[0m\n\u001b[1;32m      2\u001b[0m \u001b[0mAdded\u001b[0m \u001b[0mWord\u001b[0m \u001b[0mCloud\u001b[0m \u001b[0mVisualization\u001b[0m \u001b[0;32mfor\u001b[0m \u001b[0meach\u001b[0m \u001b[0mlabel\u001b[0m\u001b[0;34m.\u001b[0m\u001b[0;34m\u001b[0m\u001b[0;34m\u001b[0m\u001b[0m\n\u001b[1;32m      3\u001b[0m '''\n\u001b[0;32m----> 4\u001b[0;31m \u001b[0mplt\u001b[0m\u001b[0;34m.\u001b[0m\u001b[0mfigure\u001b[0m\u001b[0;34m(\u001b[0m\u001b[0mfigsize\u001b[0m\u001b[0;34m=\u001b[0m\u001b[0;34m(\u001b[0m\u001b[0;36m40\u001b[0m\u001b[0;34m,\u001b[0m\u001b[0;36m20\u001b[0m\u001b[0;34m)\u001b[0m\u001b[0;34m)\u001b[0m\u001b[0;34m\u001b[0m\u001b[0;34m\u001b[0m\u001b[0m\n\u001b[0m\u001b[1;32m      5\u001b[0m \u001b[0;32mfor\u001b[0m \u001b[0mindex\u001b[0m\u001b[0;34m,\u001b[0m \u001b[0msent\u001b[0m \u001b[0;32min\u001b[0m \u001b[0menumerate\u001b[0m\u001b[0;34m(\u001b[0m\u001b[0mdf\u001b[0m\u001b[0;34m[\u001b[0m\u001b[0;34m'label'\u001b[0m\u001b[0;34m]\u001b[0m\u001b[0;34m.\u001b[0m\u001b[0munique\u001b[0m\u001b[0;34m(\u001b[0m\u001b[0;34m)\u001b[0m\u001b[0;34m)\u001b[0m\u001b[0;34m:\u001b[0m\u001b[0;34m\u001b[0m\u001b[0;34m\u001b[0m\u001b[0m\n\u001b[1;32m      6\u001b[0m     \u001b[0mplt\u001b[0m\u001b[0;34m.\u001b[0m\u001b[0msubplot\u001b[0m\u001b[0;34m(\u001b[0m\u001b[0;36m2\u001b[0m\u001b[0;34m,\u001b[0m\u001b[0;36m2\u001b[0m\u001b[0;34m,\u001b[0m\u001b[0mindex\u001b[0m\u001b[0;34m+\u001b[0m\u001b[0;36m1\u001b[0m\u001b[0;34m)\u001b[0m\u001b[0;34m\u001b[0m\u001b[0;34m\u001b[0m\u001b[0m\n",
            "\u001b[0;31mNameError\u001b[0m: name 'plt' is not defined"
          ]
        }
      ],
      "source": [
        "'''\n",
        "Added Word Cloud Visualization for each label.\n",
        "'''\n",
        "plt.figure(figsize=(40,20))\n",
        "for index, sent in enumerate(df['label'].unique()):\n",
        "    plt.subplot(2,2,index+1)\n",
        "    data = df[df['label'] == sent]['body']\n",
        "    stopwords = set(STOPWORDS)\n",
        "    wordcloud = WordCloud(background_color='white',stopwords=stopwords,max_words = 5000,max_font_size = 50, scale = 5).generate(str(df['body']))\n",
        "    plt.imshow(wordcloud)\n",
        "    plt.xticks([])\n",
        "    plt.yticks([])\n",
        "    plt.title(sent,fontsize=40)"
      ]
    },
    {
      "cell_type": "code",
      "execution_count": 24,
      "id": "842a810c",
      "metadata": {
        "id": "842a810c"
      },
      "outputs": [],
      "source": [
        "# Label Encoding\n",
        "df['label'] = df['label'].map({'deleted': 1, 'hidden': 1, 'nonflagged': 0})"
      ]
    },
    {
      "cell_type": "code",
      "execution_count": 25,
      "id": "1c88607b",
      "metadata": {
        "colab": {
          "base_uri": "https://localhost:8080/",
          "height": 472
        },
        "id": "1c88607b",
        "outputId": "bb4bf6bf-4782-4fa7-bd0d-1845f20ed02f"
      },
      "outputs": [
        {
          "output_type": "display_data",
          "data": {
            "text/plain": [
              "<Figure size 640x480 with 1 Axes>"
            ],
            "image/png": "[encoded data removed]"
          },
          "metadata": {}
        }
      ],
      "source": [
        "import matplotlib.pyplot as plt\n",
        "\n",
        "# Calculate the length of each body and create a histogram\n",
        "df['text_length'] = df['body'].apply(len)\n",
        "plt.hist(df['text_length'], bins=20)  # Adjust the number of bins as needed\n",
        "plt.xlabel('Text Length')\n",
        "plt.ylabel('Frequency')\n",
        "plt.title('Histogram of Text Lengths')\n",
        "plt.show()"
      ]
    },
    {
      "cell_type": "code",
      "execution_count": 26,
      "id": "c7203151",
      "metadata": {
        "colab": {
          "base_uri": "https://localhost:8080/",
          "height": 521
        },
        "id": "c7203151",
        "outputId": "154f58e3-b35c-4d56-b79c-cb4995dc5528"
      },
      "outputs": [
        {
          "output_type": "display_data",
          "data": {
            "text/plain": [
              "<Figure size 600x600 with 1 Axes>"
            ],
            "image/png": "[encoded data removed]"
          },
          "metadata": {}
        }
      ],
      "source": [
        "import seaborn as sns\n",
        "\n",
        "label_counts = df['label'].value_counts()\n",
        "\n",
        "# Create a pie chart\n",
        "plt.figure(figsize=(6, 6))  # Set the figure size\n",
        "plt.pie(label_counts, labels=label_counts.index, autopct='%1.1f%%', startangle=140)\n",
        "plt.title('Distribution of Labels')\n",
        "\n",
        "plt.show()"
      ]
    },
    {
      "cell_type": "code",
      "execution_count": 27,
      "id": "5e55cda8",
      "metadata": {
        "id": "5e55cda8"
      },
      "outputs": [],
      "source": [
        "# Feature Extraction using TF-IDF\n",
        "tfidf_vectorizer = TfidfVectorizer(max_features=5000)  # Adjust max_features as needed\n",
        "X = tfidf_vectorizer.fit_transform(df['body'])\n",
        "\n",
        "# Train-Test Split\n",
        "X_train, X_test, y_train, y_test = train_test_split(X, df['label'], test_size=0.2, random_state=42)"
      ]
    },
    {
      "cell_type": "code",
      "execution_count": 29,
      "id": "5c4b60f2",
      "metadata": {
        "colab": {
          "base_uri": "https://localhost:8080/"
        },
        "id": "5c4b60f2",
        "outputId": "3b988533-c0e2-4164-b46f-8a95a93a2659"
      },
      "outputs": [
        {
          "output_type": "stream",
          "name": "stderr",
          "text": [
            "WARNING:gensim.models.word2vec:Each 'sentences' item should be a list of words (usually unicode strings). First item here is instead plain <class 'str'>.\n"
          ]
        }
      ],
      "source": [
        "'''\n",
        "Added Feature Extraction using Word2Vec\n",
        "\n",
        "'''\n",
        "\n",
        "# Feature Extraction using Word2Vec\n",
        "from gensim.models import Word2Vec\n",
        "from sklearn.model_selection import train_test_split\n",
        "from sklearn.preprocessing import LabelEncoder\n",
        "import numpy as np\n",
        "\n",
        "\n",
        "# Train Word2Vec model\n",
        "word2vec_model = Word2Vec(sentences=df['body'], vector_size=100, window=10, min_count=5, workers=5)\n",
        "\n",
        "# Function to calculate the average word vector for a document\n",
        "def average_word_vectors(words, model, vocabulary, num_features):\n",
        "    feature_vector = np.zeros((num_features,), dtype=\"float64\")\n",
        "    nwords = 0.\n",
        "\n",
        "    for word in words:\n",
        "        if word in vocabulary:\n",
        "            nwords = nwords + 1.\n",
        "            feature_vector = np.add(feature_vector, model.wv[word])\n",
        "\n",
        "    if nwords:\n",
        "        feature_vector = np.divide(feature_vector, nwords)\n",
        "\n",
        "    return feature_vector\n",
        "\n",
        "# Create word vectors for each document\n",
        "X_word2vec = [average_word_vectors(words, word2vec_model, word2vec_model.wv.index_to_key, 100) for words in df['body']]\n",
        "\n",
        "# Convert to numpy array\n",
        "X_word2vec = np.array(X_word2vec)\n",
        "\n",
        "# Label Encoding for the target variable\n",
        "label_encoder = LabelEncoder()\n",
        "df['label'] = label_encoder.fit_transform(df['label'])\n",
        "\n",
        "# Train-Test Split\n",
        "X_train, X_test, y_train, y_test = train_test_split(X_word2vec, df['label'], test_size=0.2, random_state=42)"
      ]
    },
    {
      "cell_type": "code",
      "execution_count": 30,
      "id": "70bd66bc",
      "metadata": {
        "colab": {
          "base_uri": "https://localhost:8080/"
        },
        "id": "70bd66bc",
        "outputId": "a25eaaf9-c20e-4950-a4ed-696fc1877003"
      },
      "outputs": [
        {
          "output_type": "stream",
          "name": "stderr",
          "text": [
            "WARNING:gensim.models.word2vec:Each 'sentences' item should be a list of words (usually unicode strings). First item here is instead plain <class 'str'>.\n"
          ]
        }
      ],
      "source": [
        "'''\n",
        "Added Feature Extraction using Sentiment Lexicon\n",
        "'''\n",
        "\n",
        "from gensim.models import Word2Vec\n",
        "from sklearn.model_selection import train_test_split\n",
        "from sklearn.preprocessing import LabelEncoder\n",
        "from vaderSentiment.vaderSentiment import SentimentIntensityAnalyzer\n",
        "\n",
        "# Train Word2Vec model\n",
        "word2vec_model = Word2Vec(sentences=df['body'], vector_size=100, window=10, min_count=5, workers=5)\n",
        "\n",
        "# Function to calculate the average word vector for a document\n",
        "def average_word_vectors(words, model, vocabulary, num_features):\n",
        "    feature_vector = np.zeros((num_features,), dtype=\"float64\")\n",
        "    nwords = 0.\n",
        "\n",
        "    for word in words:\n",
        "        if word in vocabulary:\n",
        "            nwords = nwords + 1.\n",
        "            feature_vector = np.add(feature_vector, model.wv[word])\n",
        "\n",
        "    if nwords:\n",
        "        feature_vector = np.divide(feature_vector, nwords)\n",
        "\n",
        "    return feature_vector\n",
        "\n",
        "# Create word vectors for each document\n",
        "X_word2vec = [average_word_vectors(words, word2vec_model, word2vec_model.wv.index_to_key, 100) for words in df['body']]\n",
        "\n",
        "# Convert to numpy array\n",
        "X_word2vec = np.array(X_word2vec)\n",
        "\n",
        "# Add sentiment lexicon features using vaderSentiment\n",
        "analyzer = SentimentIntensityAnalyzer()\n",
        "\n",
        "# Calculate sentiment scores for each document\n",
        "sentiment_scores = df['body'].apply(lambda x: analyzer.polarity_scores(x))\n",
        "\n",
        "# Extract compound sentiment scores\n",
        "compound_scores = sentiment_scores.apply(lambda x: x['compound']).values.reshape(-1, 1)\n",
        "\n",
        "# Concatenate sentiment lexicon features with Word2Vec features\n",
        "X_combined = np.concatenate((X_word2vec, compound_scores), axis=1)\n",
        "\n",
        "# Label Encoding for the target variable\n",
        "label_encoder = LabelEncoder()\n",
        "df['label'] = label_encoder.fit_transform(df['label'])\n",
        "\n",
        "# Train-Test Split\n",
        "X_train, X_test, y_train, y_test = train_test_split(X_combined, df['label'], test_size=0.2, random_state=42)"
      ]
    },
    {
      "cell_type": "code",
      "execution_count": 31,
      "id": "11ffce5f",
      "metadata": {
        "colab": {
          "base_uri": "https://localhost:8080/"
        },
        "id": "11ffce5f",
        "outputId": "f5828d1a-a6cf-4ab5-df09-c128ea91ac4d"
      },
      "outputs": [
        {
          "output_type": "stream",
          "name": "stderr",
          "text": [
            "WARNING:gensim.models.word2vec:Each 'sentences' item should be a list of words (usually unicode strings). First item here is instead plain <class 'str'>.\n"
          ]
        }
      ],
      "source": [
        "'''\n",
        "Added Feature Extraction using fastText\n",
        "'''\n",
        "from gensim.models import FastText\n",
        "from sklearn.model_selection import train_test_split\n",
        "from sklearn.preprocessing import LabelEncoder\n",
        "\n",
        "# Train fastText model\n",
        "fasttext_model = FastText(sentences=df['body'], vector_size=200, window=10, min_count=5, workers=5)\n",
        "\n",
        "# Function to calculate the average word vector for a document using fastText\n",
        "def average_word_vectors_fasttext(words, model, num_features):\n",
        "    feature_vector = np.zeros((num_features,), dtype=\"float64\")\n",
        "    nwords = 0.\n",
        "\n",
        "    for word in words:\n",
        "        nwords = nwords + 1.\n",
        "        feature_vector = np.add(feature_vector, model.wv[word])\n",
        "\n",
        "    if nwords:\n",
        "        feature_vector = np.divide(feature_vector, nwords)\n",
        "\n",
        "    return feature_vector\n",
        "\n",
        "# Create word vectors for each document using fastText\n",
        "X_fasttext = [average_word_vectors_fasttext(words, fasttext_model, 200) for words in df['body']]\n",
        "\n",
        "# Convert to numpy array\n",
        "X_fasttext = np.array(X_fasttext)\n",
        "\n",
        "# Label Encoding for the target variable\n",
        "label_encoder = LabelEncoder()\n",
        "df['label'] = label_encoder.fit_transform(df['label'])\n",
        "\n",
        "# Train-Test Split\n",
        "X_train, X_test, y_train, y_test = train_test_split(X_fasttext, df['label'], test_size=0.2, random_state=42)"
      ]
    },
    {
      "cell_type": "code",
      "execution_count": 32,
      "id": "acaf17ae",
      "metadata": {
        "id": "acaf17ae"
      },
      "outputs": [],
      "source": [
        "from sklearn.preprocessing import StandardScaler\n",
        "\n",
        "scaler = StandardScaler()\n",
        "X_train_scaled = scaler.fit_transform(X_train)\n",
        "X_test_scaled = scaler.transform(X_test)"
      ]
    },
    {
      "cell_type": "code",
      "execution_count": 33,
      "id": "51496fbc",
      "metadata": {
        "colab": {
          "base_uri": "https://localhost:8080/"
        },
        "id": "51496fbc",
        "outputId": "cbbbd184-da4e-4607-ed1d-b8491f7f131d"
      },
      "outputs": [
        {
          "output_type": "stream",
          "name": "stdout",
          "text": [
            "Accuracy: 0.65785\n",
            "Precision: 0.6288056206088993\n",
            "Recall: 0.593829481366803\n",
            "F1 Score: 0.6108172666780413\n",
            "Classification Report:\n",
            "              precision    recall  f1-score   support\n",
            "\n",
            "           0       0.68      0.71      0.69     21914\n",
            "           1       0.63      0.59      0.61     18086\n",
            "\n",
            "    accuracy                           0.66     40000\n",
            "   macro avg       0.65      0.65      0.65     40000\n",
            "weighted avg       0.66      0.66      0.66     40000\n",
            "\n",
            "Confusion Matrix:\n",
            "[[15574  6340]\n",
            " [ 7346 10740]]\n"
          ]
        }
      ],
      "source": [
        "'''\n",
        "Model Training using Logistic Regression\n",
        "'''\n",
        "\n",
        "model = LogisticRegression(max_iter=10000)\n",
        "model.fit(X_train, y_train)\n",
        "\n",
        "# Model Evaluation\n",
        "y_pred = model.predict(X_test)\n",
        "# Calculate accuracy\n",
        "accuracy = accuracy_score(y_test, y_pred)\n",
        "\n",
        "# Calculate precision, recall, and F1-score\n",
        "precision = precision_score(y_test, y_pred)\n",
        "recall = recall_score(y_test, y_pred)\n",
        "f1 = f1_score(y_test, y_pred)\n",
        "\n",
        "# Calculate classification report (includes precision, recall, and F1-score)\n",
        "class_report = classification_report(y_test, y_pred)\n",
        "\n",
        "# Calculate confusion matrix\n",
        "conf_matrix = confusion_matrix(y_test, y_pred)\n",
        "\n",
        "print(f'Accuracy: {accuracy}')\n",
        "print(f'Precision: {precision}')\n",
        "print(f'Recall: {recall}')\n",
        "print(f'F1 Score: {f1}')\n",
        "print('Classification Report:')\n",
        "print(class_report)\n",
        "print('Confusion Matrix:')\n",
        "print(conf_matrix)"
      ]
    },
    {
      "cell_type": "code",
      "execution_count": null,
      "id": "b68daf15",
      "metadata": {
        "id": "b68daf15"
      },
      "outputs": [],
      "source": [
        "'''\n",
        "Added Gaussian Naive Bayes\n",
        "'''\n",
        "from sklearn.naive_bayes import GaussianNB\n",
        "\n",
        "# Initialize and fit the Gaussian Naive Bayes model\n",
        "gaussian_naive_bayes_model = GaussianNB()\n",
        "gaussian_naive_bayes_model.fit(X_train, y_train)\n",
        "\n",
        "# Predictions\n",
        "y_pred_gaussian_naive_bayes = gaussian_naive_bayes_model.predict(X_test)\n",
        "\n",
        "# Model Evaluation for Gaussian Naive Bayes\n",
        "y_pred_gaussian_naive_bayes = gaussian_naive_bayes_model.predict(X_test)\n",
        "\n",
        "# Calculate accuracy\n",
        "accuracy_gaussian_naive_bayes = accuracy_score(y_test, y_pred_gaussian_naive_bayes)\n",
        "\n",
        "# Calculate precision, recall, and F1-score for Gaussian Naive Bayes\n",
        "precision_gaussian_naive_bayes = precision_score(y_test, y_pred_gaussian_naive_bayes)\n",
        "recall_gaussian_naive_bayes = recall_score(y_test, y_pred_gaussian_naive_bayes)\n",
        "f1_gaussian_naive_bayes = f1_score(y_test, y_pred_gaussian_naive_bayes)\n",
        "\n",
        "# Calculate classification report for Gaussian Naive Bayes\n",
        "class_report_gaussian_naive_bayes = classification_report(y_test, y_pred_gaussian_naive_bayes)\n",
        "\n",
        "# Calculate confusion matrix for Gaussian Naive Bayes\n",
        "conf_matrix_gaussian_naive_bayes = confusion_matrix(y_test, y_pred_gaussian_naive_bayes)\n",
        "\n",
        "# Print the results\n",
        "print('Gaussian Naive Bayes Model Evaluation:')\n",
        "print(f'Accuracy: {accuracy_gaussian_naive_bayes}')\n",
        "print(f'Precision: {precision_gaussian_naive_bayes}')\n",
        "print(f'Recall: {recall_gaussian_naive_bayes}')\n",
        "print(f'F1 Score: {f1_gaussian_naive_bayes}')\n",
        "print('Classification Report:')\n",
        "print(class_report_gaussian_naive_bayes)\n",
        "print('Confusion Matrix:')\n",
        "print(conf_matrix_gaussian_naive_bayes)"
      ]
    },
    {
      "cell_type": "code",
      "execution_count": null,
      "id": "61c9b0fe",
      "metadata": {
        "id": "61c9b0fe"
      },
      "outputs": [],
      "source": [
        "'''\n",
        "Added Decision Tree\n",
        "6000 = min_samples_split\n",
        "12 = max_features\n",
        "entropy gave better accuracy\n",
        "max_depth = 8\n",
        "'''\n",
        "\n",
        "from sklearn.tree import DecisionTreeClassifier\n",
        "\n",
        "# Model Training (Decision Tree)\n",
        "tree_model = DecisionTreeClassifier(criterion='entropy', min_samples_split = 6000, max_depth = 8, max_features = 12, random_state=42)\n",
        "tree_model.fit(X_train, y_train)\n",
        "\n",
        "# Model Evaluation\n",
        "y_pred_tree = tree_model.predict(X_test)\n",
        "\n",
        "# Calculate accuracy\n",
        "accuracy_tree = accuracy_score(y_test, y_pred_tree)\n",
        "\n",
        "# Calculate precision, recall, and F1-score for the decision tree\n",
        "precision_tree = precision_score(y_test, y_pred_tree)\n",
        "recall_tree = recall_score(y_test, y_pred_tree)\n",
        "f1_tree = f1_score(y_test, y_pred_tree)\n",
        "\n",
        "# Calculate classification report for the decision tree\n",
        "class_report_tree = classification_report(y_test, y_pred_tree)\n",
        "\n",
        "# Calculate confusion matrix for the decision tree\n",
        "conf_matrix_tree = confusion_matrix(y_test, y_pred_tree)\n",
        "\n",
        "print('Decision Tree Model Evaluation:')\n",
        "print(f'Accuracy: {accuracy_tree}')\n",
        "print(f'Precision: {precision_tree}')\n",
        "print(f'Recall: {recall_tree}')\n",
        "print(f'F1 Score: {f1_tree}')\n",
        "print('Classification Report:')\n",
        "print(class_report_tree)\n",
        "print('Confusion Matrix:')\n",
        "print(conf_matrix_tree)"
      ]
    },
    {
      "cell_type": "code",
      "execution_count": null,
      "id": "7dae5015",
      "metadata": {
        "id": "7dae5015"
      },
      "outputs": [],
      "source": [
        "'''\n",
        "Added Random Forest\n",
        "Gini Impurity was seen as the better criterion.\n",
        "A high value of min_samples_split gave better results. Around 5300.\n",
        "max_features = 32\n",
        "'''\n",
        "\n",
        "from sklearn.ensemble import RandomForestClassifier\n",
        "\n",
        "# Model Training (Random Forest)\n",
        "forest_model = RandomForestClassifier(n_estimators=10, criterion='gini', max_depth = 8, min_samples_split=5300, max_features = 32, random_state=42)\n",
        "forest_model.fit(X_train, y_train)\n",
        "\n",
        "# Model Evaluation\n",
        "y_pred_forest = forest_model.predict(X_test)\n",
        "\n",
        "# Calculate accuracy\n",
        "accuracy_forest = accuracy_score(y_test, y_pred_forest)\n",
        "\n",
        "# Calculate precision, recall, and F1-score for the Random Forest\n",
        "precision_forest = precision_score(y_test, y_pred_forest)\n",
        "recall_forest = recall_score(y_test, y_pred_forest)\n",
        "f1_forest = f1_score(y_test, y_pred_forest)\n",
        "\n",
        "# Calculate classification report for the Random Forest\n",
        "class_report_forest = classification_report(y_test, y_pred_forest)\n",
        "\n",
        "# Calculate confusion matrix for the Random Forest\n",
        "conf_matrix_forest = confusion_matrix(y_test, y_pred_forest)\n",
        "\n",
        "print('Random Forest Model Evaluation:')\n",
        "print(f'Accuracy: {accuracy_forest}')\n",
        "print(f'Precision: {precision_forest}')\n",
        "print(f'Recall: {recall_forest}')\n",
        "print(f'F1 Score: {f1_forest}')\n",
        "print('Classification Report:')\n",
        "print(class_report_forest)\n",
        "print('Confusion Matrix:')\n",
        "print(conf_matrix_forest)"
      ]
    },
    {
      "cell_type": "code",
      "source": [
        "import xgboost as xgb\n",
        "#Model Training as binary classification\n",
        "xgb_model = xgb.XGBClassifier(objective = 'binary:logistic', random_state = 42)\n",
        "xgb_model.fit(X_train, y_train)\n",
        "\n",
        "# Model Evaluation\n",
        "y_pred_xgb = xgb_model.predict(X_test)\n",
        "\n",
        "# Calculate accuracy\n",
        "accuracy_xgb = accuracy_score(y_test, y_pred_xgb)\n",
        "\n",
        "# Calculate precision, recall, and F1-score for the XGBoost\n",
        "precision_xgb = precision_score(y_test, y_pred_xgb)\n",
        "recall_xgb = recall_score(y_test, y_pred_xgb)\n",
        "f1_xgb = f1_score(y_test, y_pred_xgb)\n",
        "\n",
        "# Calculate classification report for the XGBoost\n",
        "class_report_xgb = classification_report(y_test, y_pred_xgb)\n",
        "\n",
        "# Calculate confusion matrix for the XGBoost\n",
        "conf_matrix_xgb = confusion_matrix(y_test, y_pred_xgb)\n",
        "\n",
        "print('XGBoost Model Evaluation:')\n",
        "print(f'Accuracy: {accuracy_xgb}')\n",
        "print(f'Precision: {precision_xgb}')\n",
        "print(f'Recall: {recall_xgb}')\n",
        "print(f'F1 Score: {f1_xgb}')\n",
        "print('Classification Report:')\n",
        "print(class_report_xgb)\n",
        "print('Confusion Matrix:')\n",
        "print(conf_matrix_xgb)\n",
        "\n"
      ],
      "metadata": {
        "colab": {
          "base_uri": "https://localhost:8080/"
        },
        "id": "mS5Rx8v0B_bL",
        "outputId": "cc4b7bdc-0731-4ad4-897d-f110e4d1088f"
      },
      "id": "mS5Rx8v0B_bL",
      "execution_count": 34,
      "outputs": [
        {
          "output_type": "stream",
          "name": "stdout",
          "text": [
            "XGBoost Model Evaluation:\n",
            "Accuracy: 0.65385\n",
            "Precision: 0.6470792285278202\n",
            "Recall: 0.515702753511003\n",
            "F1 Score: 0.5739692307692308\n",
            "Classification Report:\n",
            "              precision    recall  f1-score   support\n",
            "\n",
            "           0       0.66      0.77      0.71     21914\n",
            "           1       0.65      0.52      0.57     18086\n",
            "\n",
            "    accuracy                           0.65     40000\n",
            "   macro avg       0.65      0.64      0.64     40000\n",
            "weighted avg       0.65      0.65      0.65     40000\n",
            "\n",
            "Confusion Matrix:\n",
            "[[16827  5087]\n",
            " [ 8759  9327]]\n"
          ]
        }
      ]
    },
    {
      "cell_type": "code",
      "source": [
        "from sklearn.neural_network import MLPClassifier\n",
        "\n",
        "# Model Training\n",
        "mlp_model = MLPClassifier(activation = 'relu', solver = 'adam', alpha = 0.01, hidden_layer_sizes = (100,), random_state = 42)\n",
        "mlp_model.fit(X_train, y_train)\n",
        "\n",
        "# Model Evaluation\n",
        "y_pred_mlp = mlp_model.predict(X_test)\n",
        "\n",
        "# Calculate accuracy\n",
        "accuracy_mlp = accuracy_score(y_test, y_pred_mlp)\n",
        "\n",
        "# Calculate precision, recall, and F1-score for the MLP\n",
        "precision_mlp = precision_score(y_test, y_pred_mlp)\n",
        "recall_mlp = recall_score(y_test, y_pred_mlp)\n",
        "f1_mlp = f1_score(y_test, y_pred_mlp)\n",
        "\n",
        "# Calculate classification report for the MLP\n",
        "class_report_mlp = classification_report(y_test, y_pred_mlp)\n",
        "\n",
        "# Calculate confusion matrix for the MLP\n",
        "conf_matrix_mlp = confusion_matrix(y_test, y_pred_mlp)\n",
        "\n",
        "print('MLP Model Evaluation:')\n",
        "print(f'Accuracy: {accuracy_mlp}')\n",
        "print(f'Precision: {precision_mlp}')\n",
        "print(f'Recall: {recall_mlp}')\n",
        "print(f'F1 Score: {f1_mlp}')\n",
        "print('Classification Report:')\n",
        "print(class_report_mlp)\n",
        "print('Confusion Matrix:')\n",
        "print(conf_matrix_mlp)\n",
        "\n"
      ],
      "metadata": {
        "colab": {
          "base_uri": "https://localhost:8080/"
        },
        "id": "LrojNg4DJP3Z",
        "outputId": "17c24097-58dc-4e04-c28a-ec557e3fbea5"
      },
      "id": "LrojNg4DJP3Z",
      "execution_count": 36,
      "outputs": [
        {
          "output_type": "stream",
          "name": "stdout",
          "text": [
            "MLP Model Evaluation:\n",
            "Accuracy: 0.658175\n",
            "Precision: 0.629557865069579\n",
            "Recall: 0.5928342364259649\n",
            "F1 Score: 0.6106444172338183\n",
            "Classification Report:\n",
            "              precision    recall  f1-score   support\n",
            "\n",
            "           0       0.68      0.71      0.70     21914\n",
            "           1       0.63      0.59      0.61     18086\n",
            "\n",
            "    accuracy                           0.66     40000\n",
            "   macro avg       0.65      0.65      0.65     40000\n",
            "weighted avg       0.66      0.66      0.66     40000\n",
            "\n",
            "Confusion Matrix:\n",
            "[[15605  6309]\n",
            " [ 7364 10722]]\n"
          ]
        }
      ]
    },
    {
      "cell_type": "code",
      "source": [
        "from google.colab import drive\n",
        "drive.mount('/content/drive')"
      ],
      "metadata": {
        "id": "726JXtaWEhEn"
      },
      "id": "726JXtaWEhEn",
      "execution_count": null,
      "outputs": []
    }
  ],
  "metadata": {
    "kernelspec": {
      "display_name": "Python 3 (ipykernel)",
      "language": "python",
      "name": "python3"
    },
    "language_info": {
      "codemirror_mode": {
        "name": "ipython",
        "version": 3
      },
      "file_extension": ".py",
      "mimetype": "text/x-python",
      "name": "python",
      "nbconvert_exporter": "python",
      "pygments_lexer": "ipython3",
      "version": "3.11.4"
    },
    "colab": {
      "provenance": []
    }
  },
  "nbformat": 4,
  "nbformat_minor": 5
}